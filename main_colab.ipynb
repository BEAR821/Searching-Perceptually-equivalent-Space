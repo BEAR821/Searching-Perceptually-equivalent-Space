{
  "cells": [
    {
      "cell_type": "markdown",
      "metadata": {
        "id": "view-in-github",
        "colab_type": "text"
      },
      "source": [
        "<a href=\"https://colab.research.google.com/github/BEAR821/Searching-Perceptually-equivalent-Space/blob/main/main_colab.ipynb\" target=\"_parent\"><img src=\"https://colab.research.google.com/assets/colab-badge.svg\" alt=\"Open In Colab\"/></a>"
      ]
    },
    {
      "cell_type": "markdown",
      "source": [
        "# Set Hyperparameters"
      ],
      "metadata": {
        "id": "omE1vDGLs18j"
      }
    },
    {
      "cell_type": "code",
      "execution_count": 302,
      "metadata": {
        "id": "R-GxSl_6fp4r"
      },
      "outputs": [],
      "source": [
        "model_name = 'efficientnet_b7' # the name of pre-trained model from torchvision.models\n",
        "\n",
        "Fix_seed = False # boolean to fix the random seed or not\n",
        "\n",
        "seed =100 # Set random seed if Fix_seed==False, it gonna ignored\n",
        "\n",
        "label_size = 50 # N of the report : the number of sampling labels ( for statictical safty )\n",
        "\n",
        "sample_size = 150 # B of the report : the number of sampling images per label ( for statictical safty )\n",
        "\n",
        "import torch\n",
        "\n",
        "if torch.cuda.is_available():\n",
        "  device = 'cuda'\n",
        "else:\n",
        "  device = 'cpu'"
      ]
    },
    {
      "cell_type": "markdown",
      "source": [
        "# pre-trained Model Mount"
      ],
      "metadata": {
        "id": "kQw_Ht4Ws2oK"
      }
    },
    {
      "cell_type": "code",
      "execution_count": 303,
      "metadata": {
        "colab": {
          "base_uri": "https://localhost:8080/"
        },
        "id": "ItasPb0seSsa",
        "outputId": "c47bda3c-363a-40b0-d39d-641a9e1baa8f"
      },
      "outputs": [
        {
          "output_type": "stream",
          "name": "stdout",
          "text": [
            "Drive already mounted at /content/drive; to attempt to forcibly remount, call drive.mount(\"/content/drive\", force_remount=True).\n"
          ]
        }
      ],
      "source": [
        "from google.colab import drive\n",
        "drive.mount('/content/drive')"
      ]
    },
    {
      "cell_type": "code",
      "execution_count": 304,
      "metadata": {
        "id": "s5pEuSyhgNcH"
      },
      "outputs": [],
      "source": [
        "import torchvision.models as models\n",
        "import torchvision\n",
        "import torch"
      ]
    },
    {
      "cell_type": "code",
      "execution_count": 305,
      "metadata": {
        "id": "WCRlR4ZVkmIF"
      },
      "outputs": [],
      "source": [
        "def getPretrainedModel(model_name):\n",
        "\n",
        "  model_dict = {'RESNET' : 'resnet', 'VGG' : 'vgg', \"EFFICIENTNET\" : 'efficientnet', 'INCEPTION' : 'inception'}\n",
        "  modelWeight_dict = {'RESNET' : 'ResNet@_Weights', 'VGG' : 'VGG@_Weights', 'EFFICIENTNET' : 'EfficientNet@_Weights', 'INCEPTION' : 'Inception@_Weights'}\n",
        "\n",
        "  c = None\n",
        "  for i, word in enumerate(model_name):\n",
        "    if word.isdigit() or word=='_':\n",
        "      c = i\n",
        "      break\n",
        "      \n",
        "  modelkind = model_name[:c]\n",
        "  modelversion = model_name[c:]\n",
        "\n",
        "  if modelkind.upper() in model_dict.keys():\n",
        "    name = model_dict[modelkind.upper()]\n",
        "\n",
        "    wname1, wname2 = modelWeight_dict[modelkind.upper()].split('@')\n",
        "\n",
        "    model = getattr(models, name+modelversion)\n",
        "    weights = getattr(models, wname1+modelversion.upper()+wname2)\n",
        "  else:\n",
        "    raise print('Wrong Name')\n",
        "  \n",
        "  return model(weights = weights), name\n"
      ]
    },
    {
      "cell_type": "code",
      "execution_count": null,
      "metadata": {
        "id": "IdtEyTRfiG5F"
      },
      "outputs": [],
      "source": [
        "classifier, modelkind = getPretrainedModel(model_name)\n",
        "classifier.to(device)"
      ]
    },
    {
      "cell_type": "markdown",
      "source": [
        "# Define & Summary of Model"
      ],
      "metadata": {
        "id": "2Qp6aScbtGdV"
      }
    },
    {
      "cell_type": "code",
      "execution_count": 309,
      "metadata": {
        "id": "SQaiJpx5zycE"
      },
      "outputs": [],
      "source": [
        "class MyModel(torch.nn.Module):\n",
        "    def __init__(self, classifier, modelkind):\n",
        "        super(MyModel, self).__init__()\n",
        "        self.f = []\n",
        "        self.modelname = modelkind\n",
        "        self.name = []\n",
        "        self.idenlayer = nn.Identity()\n",
        "\n",
        "        self.classifier = self.getModelLayers(classifier, modelkind)\n",
        "\n",
        "        self.f, self.name = self.findF(self.classifier)\n",
        "\n",
        "        \n",
        "\n",
        "        for name, layer in self.classifier:\n",
        "          for para in layer.parameters():\n",
        "            para.requires_grad = False\n",
        "\n",
        "    def getModelLayers(self, classifier, modelkind):\n",
        "      op =[]\n",
        "      op.append(('idenity', self.idenlayer))\n",
        "      if modelkind == 'vgg':\n",
        "        key = None\n",
        "        for name, layer in classifier.named_modules():\n",
        "          if key is None and 'features.0' in name:\n",
        "            key = 1\n",
        "          if key == 1:\n",
        "            layer.to(device)\n",
        "            op.append((name,layer))\n",
        "          if 'classifier' in name and key == 1:\n",
        "            break\n",
        "      elif modelkind == 'resnet':\n",
        "        s= 0\n",
        "        for name, layer in classifier.named_modules():\n",
        "          s=1\n",
        "          if name == '':\n",
        "            s=0\n",
        "          for i in range(1, 5):\n",
        "            for j in range(7):\n",
        "              if ('layer'+str(i)+'.'+str(j) in name and 'layer'+str(i)+'.'+str(j) != name ) or 'layer'+str(i) == name:\n",
        "                s=0\n",
        "\n",
        "          if s==1:\n",
        "            layer.to(device)\n",
        "            op.append((name, layer))\n",
        "      elif modelkind == 'efficientnet':\n",
        "        s= 0\n",
        "        for name, layer in classifier.named_modules():\n",
        "          s= 0\n",
        "          for i in range(0, 30):\n",
        "            if name == 'features.'+str(i):\n",
        "              s=1\n",
        "\n",
        "          if s==1:\n",
        "            layer.to(device)\n",
        "            op.append((name, layer))\n",
        "      return op\n",
        "    \n",
        "    def findF(self, classifier):\n",
        "      multi = 1\n",
        "      f = []\n",
        "      layer_place = []\n",
        "\n",
        "      x = torch.zeros(1, 3, 256, 256)\n",
        "      x = x.to(device)\n",
        "      H = x.size(-1)\n",
        "      for i, (namel, layer) in enumerate(classifier):\n",
        "        x = layer(x)\n",
        "        if self.modelname =='resnet' and x.size(-1) == 1 and x.size(-2) == 1:\n",
        "            x  = nn.Flatten()(x)\n",
        "        if self.modelname =='vgg' and x.size(-1) == 7 and x.size(-2) == 7:\n",
        "            x  = nn.Flatten()(x)\n",
        "        h = x.size(-1)\n",
        "        if H != h:\n",
        "          if H//h == 0:\n",
        "            break\n",
        "          f.append(multi)\n",
        "          multi *= H//h\n",
        "          if i ==0 :\n",
        "            raise\n",
        "          layer_place.append(i-1)\n",
        "          H = h\n",
        "      \n",
        "      return f, layer_place\n",
        "\n",
        "    def forward(self, x):\n",
        "        out = {}\n",
        "        y = {}\n",
        "        i = 0\n",
        "        for i, (_, layer) in enumerate(self.classifier):\n",
        "          x = layer(x)\n",
        "          if len(x.size())>=3:\n",
        "            o = torch.sum((x[0, :, :, :]-x[1, :, :, :])**2)/(torch.norm(x[0])**2 + torch.norm(x[1])**2)\n",
        "            o = o.to('cpu')\n",
        "            o = o.numpy()\n",
        "            y[i] = o\n",
        "            if i in self.name:\n",
        "              out[i] = o\n",
        "            else:\n",
        "              out[i] = 0\n",
        "          if self.modelname =='resnet' and x.size(-1) == 1 and x.size(-2) == 1:\n",
        "            x  = nn.Flatten()(x)\n",
        "          if self.modelname =='vgg' and x.size(-1) == 7 and x.size(-2) == 7:\n",
        "            x  = nn.Flatten()(x)\n",
        "          i+=1\n",
        "        return out, y\n"
      ]
    },
    {
      "cell_type": "code",
      "execution_count": 310,
      "metadata": {
        "colab": {
          "base_uri": "https://localhost:8080/"
        },
        "id": "KJgSPnES5N8p",
        "outputId": "2e59a643-8908-4da9-c33b-9bb00e78c602"
      },
      "outputs": [
        {
          "output_type": "stream",
          "name": "stdout",
          "text": [
            "label size :  50\n",
            "sample size :  150\n",
            "kind of model :  efficientnet\n",
            "Compressing series :  [1, 2, 4, 8, 16]\n",
            "The number of layer to evaluate :  [0, 2, 3, 4, 6]\n"
          ]
        }
      ],
      "source": [
        "import torchvision.transforms as transforms\n",
        "from torch.utils.data import Dataset\n",
        "from torchvision import datasets\n",
        "import torch.nn as nn\n",
        "import os\n",
        "import time\n",
        "import torch.nn.functional as F\n",
        "import numpy as np\n",
        "import random\n",
        "\n",
        "\n",
        "# fix randomness with seed\n",
        "if Fix_seed:\n",
        "  print('random seed is fixed to : ',seed)\n",
        "  torch.manual_seed(seed)\n",
        "  torch.cuda.manual_seed_all(seed)\n",
        "  np.random.seed(seed)\n",
        "  random.seed(seed)\n",
        "\n",
        "print('label size : ', label_size)\n",
        "\n",
        "print('sample size : ', sample_size)\n",
        "\n",
        "print('kind of model : ', modelkind)\n",
        "\n",
        "\n",
        "\n",
        "model = MyModel(classifier, modelkind)\n",
        "model.to(device)\n",
        "\n",
        "f = model.f\n",
        "name = model.name\n",
        "\n",
        "print('Compressing series : ', f)\n",
        "print('The number of layer to evaluate : ', name)"
      ]
    },
    {
      "cell_type": "markdown",
      "source": [
        "# Set DataSet & Inference"
      ],
      "metadata": {
        "id": "o-4pPCJYtmbl"
      }
    },
    {
      "cell_type": "code",
      "source": [
        "# root directory of train dataset\n",
        "data_root = '/content/drive/MyDrive/KAIST/CS492(I)/data/tiny-imagenet-200/tiny-imagenet-200/train'"
      ],
      "metadata": {
        "id": "S36R7AWxvEBK"
      },
      "execution_count": 311,
      "outputs": []
    },
    {
      "cell_type": "code",
      "execution_count": 312,
      "metadata": {
        "colab": {
          "base_uri": "https://localhost:8080/"
        },
        "id": "AVUAkPMIQMi3",
        "outputId": "99e1d108-5557-46ec-9893-59652996e197"
      },
      "outputs": [
        {
          "output_type": "stream",
          "name": "stdout",
          "text": [
            "The number of labels :  109\n",
            "labels for inference ['n03404251', 'n02231487', 'n02233338', 'n02125311', 'n02769748', 'n01768244', 'n03255030', 'n02226429', 'n02948072', 'n03400231', 'n01770393', 'n02002724', 'n02480495', 'n02802426', 'n02132136', 'n02950826', 'n03085013', 'n02268443', 'n03388043', 'n02788148', 'n02815834', 'n02364673', 'n02415577', 'n02814533', 'n02963159', 'n03126707', 'n02669723', 'n02481823', 'n02793495', 'n02395406', 'n02666196', 'n02892201', 'n02056570', 'n01950731', 'n02437312', 'n02106662', 'n02190166', 'n03179701', 'n03424325', 'n01944390', 'n03447447', 'n01742172', 'n03042490', 'n02165456', 'n02808440', 'n02099601', 'n02321529', 'n01855672', 'n02074367', 'n02113799', 'n03160309', 'n02814860', 'n02085620', 'n03014705', 'n03100240', 'n02236044', 'n02699494', 'n01641577', 'n02403003', 'n02509815', 'n02058221', 'n01882714', 'n03201208', 'n01698640', 'n02837789', 'n02094433', 'n01910747', 'n01784675', 'n01629819', 'n02999410', 'n03026506', 'n02841315', 'n02795169', 'n02123394', 'n02843684', 'n02909870', 'n01917289', 'n02124075', 'n02730930', 'n02504458', 'n02977058', 'n02206856', 'n03355925', 'n02988304', 'n02917067', 'n03444034', 'n03250847', 'n02129165', 'n02927161', 'n02123045', 'n02281406', 'n01945685', 'n01644900', 'n01984695', 'n01443537', 'n01774750', 'n03089624', 'n02099712', 'n02883205', 'n03393912', 'n02791270', 'n02423022', 'n01983481', 'n02410509', 'n02906734', 'n02486410', 'n02279972', 'n01774384', 'n02823428']\n",
            "0\n"
          ]
        }
      ],
      "source": [
        "# checking dataset\n",
        "\n",
        "dirlist = os.listdir(data_root)\n",
        "print('The number of labels : ', len(dirlist))\n",
        "random.shuffle(dirlist)\n",
        "\n",
        "dirlsit = dirlist[:label_size]\n",
        "\n",
        "print('labels for inference', dirlist)\n",
        "\n",
        "import shutil\n",
        "cnt = 0\n",
        "\n",
        "for dir in dirlist:\n",
        "  traindir = data_root+'/'+dir+'/images'\n",
        "  if not os.path.isdir(traindir):\n",
        "    shutil.rmtree(data_root+'/'+dir)\n",
        "    cnt+=1\n",
        "  else: \n",
        "    if not os.listdir(traindir):\n",
        "      os.rmdir(traindir)\n",
        "      cnt+=1\n",
        "\n",
        "print(cnt)\n",
        "\n",
        "if cnt != 0:\n",
        "  raise print('Abnormal data was asigned. Please run this cell again')"
      ]
    },
    {
      "cell_type": "code",
      "execution_count": 313,
      "metadata": {
        "id": "5kT2ENVW83kp"
      },
      "outputs": [],
      "source": [
        "from PIL import Image\n",
        "\n",
        "class ImageDataset(Dataset):\n",
        "    def __init__(self, root_dir, transform=None):\n",
        "        self.root_dir = root_dir\n",
        "        self.transform = transform\n",
        "\n",
        "    def __len__(self):\n",
        "        return len(os.listdir(self.root_dir))\n",
        "    def __getitem__(self, idx):\n",
        "        if torch.is_tensor(idx):\n",
        "            idx = idx.tolist()\n",
        "\n",
        "        img_name = os.path.join(self.root_dir,\n",
        "                                os.listdir(self.root_dir)[idx])\n",
        "        image = Image.open(img_name)\n",
        "\n",
        "        if self.transform:\n",
        "            image = self.transform(image)\n",
        "\n",
        "        return image"
      ]
    },
    {
      "cell_type": "code",
      "execution_count": null,
      "metadata": {
        "id": "F7SKFP75yiMK"
      },
      "outputs": [],
      "source": [
        "o =[]\n",
        "for dir in dirlist:\n",
        "  traindir = data_root+'/'+dir\n",
        "  normalize = transforms.Normalize(mean=[0.485, 0.456, 0.406],\n",
        "                              std=[0.229, 0.224, 0.225])\n",
        "  train_dataset = datasets.ImageFolder(\n",
        "      traindir,\n",
        "      transforms.Compose([\n",
        "          transforms.Resize(256),\n",
        "          transforms.RandomResizedCrop(256),\n",
        "          transforms.ToTensor(),\n",
        "          normalize,\n",
        "      ]))\n",
        "\n",
        "  train_loader = torch.utils.data.DataLoader(\n",
        "      train_dataset, batch_size=2, shuffle=True, pin_memory=True, drop_last=True)\n",
        "\n",
        "  u = []\n",
        "  y = []\n",
        "\n",
        "  for i, (images, _) in enumerate(train_loader):\n",
        "    if i == sample_size:\n",
        "      break\n",
        "    images = images.to(device, non_blocking=True)\n",
        "\n",
        "    model.eval()\n",
        "\n",
        "    p, y_pred = model(images)\n",
        "    \n",
        "    u.append(p)\n",
        "    y.append(y_pred)\n",
        "  \n",
        "  m_u = {}\n",
        "  m_y = {}\n",
        "  for i in u[0].keys():\n",
        "    m_u[i] = 0\n",
        "    for item in u:\n",
        "      m_u[i] += item[i]\n",
        "    m_u[i] = m_u[i]/(sample_size)\n",
        "  for i in y[0].keys():\n",
        "    m_y[i] = 0\n",
        "    for item in y:\n",
        "      m_y[i] += item[i]\n",
        "    m_y[i] = m_y[i]/(sample_size)\n",
        "  \n",
        "  o.append((m_u,m_y))\n",
        "  print(m_u)\n",
        "  print(m_y)\n",
        "  "
      ]
    },
    {
      "cell_type": "code",
      "execution_count": 315,
      "metadata": {
        "id": "lZ0Jt-Zu2lWM",
        "colab": {
          "base_uri": "https://localhost:8080/"
        },
        "outputId": "4e96fb3f-d2e0-4ddb-ef78-9c2259f30192"
      },
      "outputs": [
        {
          "output_type": "stream",
          "name": "stdout",
          "text": [
            "@@@@@@@@@@@@@@@@@@@@@@@@@@@@@@@@@@\n",
            "{0: 2.050063748410842, 1: 0.0, 2: 1.4023054484407103, 3: 1.2376912489692373, 4: 1.5986093567371373, 5: 0.0, 6: 1.622608066248894, 7: 0.0, 8: 0.0, 9: 0.0}\n",
            "{0: 2.049801238401235, 1: 0.7258424721260869, 2: 1.4026706554214154, 3: 1.2377872024575873, 4: 1.5985821007569634, 5: 1.6592775250116987, 6: 1.6224766873995466, 7: 1.6831968064228686, 8: 2.0497146444400145, 9: 2.138370751436551}\n"
          ]
        }
      ],
      "source": [
        "mean_u = None\n",
        "mean_y = None\n",
        "\n",
        "n = label_size\n",
        "for u, y in o:\n",
        "  if mean_u is None:\n",
        "    mean_u = u\n",
        "    continue\n",
        "  if mean_y is None:\n",
        "    mean_y = y\n",
        "    continue\n",
        "  for i in u.keys():\n",
        "    mean_u[i] += u[i]\n",
        "  for i in y.keys():\n",
        "    mean_y[i] += y[i]\n",
        "\n",
        "for i in u.keys():\n",
        "  mean_u[i] = mean_u[i] /(n)\n",
        "for i in y.keys():\n",
        "  mean_y[i] = mean_y[i] /(n)\n"
      ]
    },
    {
      "cell_type": "code",
      "source": [
        "print('@@@@@@@@@@@@@@@@@@@@@@@@@@@@@@@@@@')\n",
        "\n",
        "print(mean_u)\n",
        "print(mean_y)"
      ],
      "metadata": {
        "colab": {
          "base_uri": "https://localhost:8080/"
        },
        "id": "PDAmUb56PSGQ",
        "outputId": "c409ebaf-668a-4fd0-afb3-6e58c00405eb"
      },
      "execution_count": 316,
      "outputs": [
        {
          "output_type": "stream",
          "name": "stdout",
          "text": [
            "@@@@@@@@@@@@@@@@@@@@@@@@@@@@@@@@@@\n",
            "{0: 2.050063748410842, 1: 0.0, 2: 1.4023054484407103, 3: 1.2376912489692373, 4: 1.5986093567371373, 5: 0.0, 6: 1.622608066248894, 7: 0.0, 8: 0.0, 9: 0.0}\n",
            "{0: 2.049801238401235, 1: 0.7258424721260869, 2: 1.4026706554214154, 3: 1.2377872024575873, 4: 1.5985821007569634, 5: 1.6592775250116987, 6: 1.6224766873995466, 7: 1.6831968064228686, 8: 2.0497146444400145, 9: 2.138370751436551}\n"
          ]
        }
      ]
    },
    {
      "cell_type": "markdown",
      "source": [
        "# Analysis Data & Save Data"
      ],
      "metadata": {
        "id": "vvBS9_Cctt54"
      }
    },
    {
      "cell_type": "code",
      "source": [
        "# root directory of save the result\n",
        "save_root = '/content/drive/MyDrive/KAIST/CS492(I)/result'\n",
        "\n",
        "Load_result = False\n",
        "\n",
        "if Load_result:\n",
        "  load_model = 'efficientnet_b4'\n",
        "else:\n",
        "  load_model = model_name\n"
      ],
      "metadata": {
        "id": "sBJCHvUivBDL"
      },
      "execution_count": 317,
      "outputs": []
    },
    {
      "cell_type": "code",
      "source": [
        "import numpy as np\n",
        "\n",
        "def FindInflecionPoint(RDlist):\n",
        "\n",
        "  if len(RDlist) <=3:\n",
        "    print('too small to find inflection point')\n",
        "    return -1\n",
        "  else:\n",
        "    grad = []\n",
        "    cnt = None\n",
        "    for i, m in enumerate(RDlist):\n",
        "      if m == 0:\n",
        "        continue\n",
        "      if cnt is None:\n",
        "        cnt = i\n",
        "        continue\n",
        "      grad.append((m-RDlist[cnt])/(i-cnt))\n",
        "      cnt = i\n",
        "\n",
        "    for i, g in enumerate(grad):\n",
        "      if i == 0:\n",
        "        continue\n",
        "      if g < grad[i-1]:\n",
        "        return name[i]\n",
        "    \n",
        "    print('there is no grad decrease')\n",
        "    return -1\n",
        "\n",
        "def Findf(RDlist):\n",
        "  RDlist = np.array(RDlist)\n",
        "  local_min = np.min(RDlist[RDlist!=0])\n",
        "  local_min = np.where(RDlist==local_min)[0].item()\n",
        "  next_local_max = local_min\n",
        "  key = 0\n",
        "\n",
        "  for i, m in enumerate(RDlist):\n",
        "    if i >= local_min and m >= RDlist[next_local_max] :\n",
        "      next_local_max = i\n",
        "      key = 1\n",
        "  \n",
        "  if key ==0:\n",
        "    print('there is no max')\n",
        "    print('Test Failed')\n",
        "    return -1\n",
        "  \n",
        "  a =  FindInflecionPoint(RDlist[local_min:next_local_max+1])\n",
        "  if a != -1:\n",
        "    a_value = RDlist[a]\n",
        "    RDlist = RDlist[RDlist!=0]\n",
        "    p = np.where(RDlist==a_value)[0]\n",
        "    return f[a]\n",
        "  else:\n",
        "    if local_min+1 >= next_local_max:\n",
        "      max_value = RDlist[next_local_max]\n",
        "      RDlist = RDlist[RDlist!=0]\n",
        "      p = np.where(RDlist==max_value)[0].item()\n",
        "      return f[p]\n",
        "    else:\n",
        "      min_value = RDlist[local_min]\n",
        "      RDlist = RDlist[RDlist!=0]\n",
        "      p = np.where(RDlist==min_value)[0].item()\n",
        "      return f[p+1]\n",
        "\n",
        "\n"
      ],
      "metadata": {
        "id": "olaDBWMuzyvL"
      },
      "execution_count": 318,
      "outputs": []
    },
    {
      "cell_type": "code",
      "source": [
        "import matplotlib.pyplot as plt\n",
        "import csv\n",
        "\n",
        "if Load_result:\n",
        "  with open(save_root+'/'+load_model+'/'+'resultl.csv', newline='') as csvfile:\n",
        "    data = csv.reader(csvfile)\n",
        "    i = 0\n",
        "\n",
        "    for row in data:\n",
        "      if i == 1:\n",
        "        show_u = row\n",
        "      if i == 2:\n",
        "        show_y = row\n",
        "      i+=1\n",
        "    show_u = list(map(float, show_u))\n",
        "    show_y = list(map(float, show_y))\n",
        "else:\n",
        "  show_u = list(mean_u.values())\n",
        "  show_y = list(mean_y.values())\n",
        "\n",
        "layer = [i for i in range(len(show_u))]\n",
        "\n",
        "plt.plot(layer, show_u,  marker='o')\n",
        "plt.plot(layer, show_y,  marker='o')\n",
        "plt.title(load_model+' RD metric per layer')\n",
        "plt.xlabel(\"layer depth\")\n",
        "plt.ylabel('RD metric')\n",
        "plt.show()\n",
        "\n",
        "result_f = Findf(show_u)\n",
        "\n",
        "print('Optimul size f : ', result_f, 'times compression')"
      ],
      "metadata": {
        "colab": {
          "base_uri": "https://localhost:8080/",
          "height": 313
        },
        "id": "pf3p89XqvJRX",
        "outputId": "e617dd1e-9eb5-4ce7-b594-25ad9fc9eefa"
      },
      "execution_count": 319,
      "outputs": [
        {
          "output_type": "display_data",
          "data": {
            "text/plain": [
              "<Figure size 432x288 with 1 Axes>"
            ],
            "image/png": "[encoded data removed]"
          },
          "metadata": {
            "needs_background": "light"
          }
        },
        {
          "output_type": "stream",
          "name": "stdout",
          "text": [
            "Optimul size f :  4 times compression\n"
          ]
        }
      ]
    },
    {
      "cell_type": "code",
      "execution_count": 320,
      "metadata": {
        "id": "pw_7e3sn26wj",
        "colab": {
          "base_uri": "https://localhost:8080/"
        },
        "outputId": "99266bc5-a9cf-4d9a-af74-ddd248d2c2b8"
      },
      "outputs": [
        {
          "output_type": "stream",
          "name": "stdout",
          "text": [
            "[0, 1, 2, 3, 4, 5, 6, 7, 8, 9]\n"
          ]
        }
      ],
      "source": [
        "import csv\n",
        "layer = [i for i in mean_u.keys()]\n",
        "print(layer)\n",
        "\n",
        "try:\n",
        "  os.mkdir(save_root+'/'+model_name)\n",
        "except:\n",
        "  pass\n",
        "\n",
        "if not Load_result:\n",
        "  new_dict = [mean_u, mean_y]\n",
        "  with open(save_root+'/'+model_name+'/'+'resultl.csv', 'w') as csvfile:\n",
        "      writer = csv.DictWriter(csvfile, fieldnames = layer)\n",
        "      writer.writeheader()\n",
        "      writer.writerows(new_dict)"
      ]
    },
    {
      "cell_type": "code",
      "execution_count": 320,
      "metadata": {
        "id": "9yBuH5kn4jKm"
      },
      "outputs": [],
      "source": []
    }
  ],
  "metadata": {
    "accelerator": "GPU",
    "colab": {
      "provenance": [],
      "mount_file_id": "1rrYUXcl5lXNsbeKnlZbNhfs4C0ojUSCp",
      "authorship_tag": "ABX9TyPsZXEmTLNU+H72+rfCIXCR",
      "include_colab_link": true
    },
    "gpuClass": "standard",
    "kernelspec": {
      "display_name": "Python 3",
      "name": "python3"
    },
    "language_info": {
      "name": "python"
    }
  },
  "nbformat": 4,
  "nbformat_minor": 0
}